{
 "cells": [
  {
   "cell_type": "code",
   "execution_count": 2,
   "metadata": {},
   "outputs": [
    {
     "name": "stdout",
     "output_type": "stream",
     "text": [
      "\n",
      "Background berhasil dihapus dan disimpan di ./output/test.png\n"
     ]
    }
   ],
   "source": [
    "import os\n",
    "from PIL import Image\n",
    "from rembg import remove\n",
    "\n",
    "def remove_background(input_path, output_dir):\n",
    "    try:\n",
    "        # Buka gambar input\n",
    "        input_image = Image.open(input_path)\n",
    "        \n",
    "        # Hapus background\n",
    "        output_image = remove(input_image)\n",
    "        \n",
    "        # Ambil nama file tanpa ekstensi\n",
    "        base_name = os.path.splitext(os.path.basename(input_path))[0]\n",
    "        \n",
    "        # Tentukan path output dengan ekstensi .png\n",
    "        output_path = os.path.join(output_dir, f\"{base_name}.png\")\n",
    "        \n",
    "        # Simpan gambar hasil\n",
    "        output_image.save(output_path)\n",
    "        print(f\"\\nBackground berhasil dihapus dan disimpan di {output_path}\")\n",
    "    \n",
    "    except FileNotFoundError:\n",
    "        print(f\"File {input_path} tidak ditemukan. Silakan periksa path gambar.\")\n",
    "    except IOError:\n",
    "        print(f\"Gagal membuka file {input_path}. Pastikan format gambar valid.\")\n",
    "    except Exception as e:\n",
    "        print(f\"Terjadi kesalahan: {e}\")\n",
    "\n",
    "# Contoh penggunaan\n",
    "input_path = './input/test.jpeg'\n",
    "output_dir = './output/'\n",
    "\n",
    "remove_background(input_path, output_dir)"
   ]
  }
 ],
 "metadata": {
  "kernelspec": {
   "display_name": "Python 3",
   "language": "python",
   "name": "python3"
  },
  "language_info": {
   "codemirror_mode": {
    "name": "ipython",
    "version": 3
   },
   "file_extension": ".py",
   "mimetype": "text/x-python",
   "name": "python",
   "nbconvert_exporter": "python",
   "pygments_lexer": "ipython3",
   "version": "3.11.1"
  }
 },
 "nbformat": 4,
 "nbformat_minor": 2
}
